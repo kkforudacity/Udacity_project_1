{
 "cells": [
  {
   "cell_type": "markdown",
   "id": "cf32c19d",
   "metadata": {},
   "source": [
    "This project involved analzying the 2020 Chicago taxi dataset using the Crisp-dm process consisting of:\n",
    "\n",
    "•\tBusiness Understanding\n",
    "\n",
    "•\tData Understanding\n",
    "\n",
    "•\tPrepare Data\n",
    "\n",
    "•\tData Modeling\n",
    "\n",
    "•\tEvaluate the Results\n",
    "\n",
    "•\tDeploy\n"
   ]
  },
  {
   "cell_type": "markdown",
   "id": "fc50b2be",
   "metadata": {},
   "source": [
    "# BUSINESS UNDERSTANDING"
   ]
  },
  {
   "cell_type": "markdown",
   "id": "06be56dd",
   "metadata": {},
   "source": [
    "When surveying the internet for different datasets to analyze, it was interesting to come across the Chicago data portal that stored a wide variety of datasets relating to the city. The data that interested me most in this portal was the data logging taxi trips taken across the city. Each recent calendar year has a full dataset with records of the distinct taxi trips taken through the year with details such as the time and date of the trip, fare, tip paid, company used, pick up and drop off community area. I decided to explore the 2020 calendar year dataset while pairing it with income, population, and square area datasets for the different community areas sourced from other sites. The three questions I decided to explore are:\n",
    "\n",
    "•\tWith 2020 as a transition year due to COVID-19, what were the general trends in taxi usage through the year?\n",
    "\n",
    "•\tOn some trips a tip was paid while on many others a tip was not. What general factors in the dataset relate to whether a tip is paid?\n",
    "\n",
    "•\tWith the median household income, population, and area data on the community areas in the additional datasets, how do these factors relate to the frequency of taxi trips in the different community areas?\n"
   ]
  },
  {
   "cell_type": "markdown",
   "id": "559373db",
   "metadata": {},
   "source": [
    "# DATA UNDERSTANDING"
   ]
  },
  {
   "cell_type": "code",
   "execution_count": 1,
   "id": "70935dac",
   "metadata": {},
   "outputs": [],
   "source": [
    "import pandas as pd\n",
    "import matplotlib.pyplot as plt\n",
    "from sklearn.linear_model import LinearRegression\n",
    "from datetime import datetime\n",
    "from datetime import timedelta"
   ]
  },
  {
   "cell_type": "code",
   "execution_count": 2,
   "id": "b18aecb6",
   "metadata": {
    "scrolled": true
   },
   "outputs": [
    {
     "name": "stderr",
     "output_type": "stream",
     "text": [
      "C:\\Users\\kkimani2\\Anaconda3\\lib\\site-packages\\IPython\\core\\interactiveshell.py:3444: DtypeWarning: Columns (10,13,14) have mixed types.Specify dtype option on import or set low_memory=False.\n",
      "  exec(code_obj, self.user_global_ns, self.user_ns)\n"
     ]
    }
   ],
   "source": [
    "# Load the three datasets\n",
    "\n",
    "# Data recording the taxi trips in chicago in 2020\n",
    "df_trip = pd.read_csv('chicago_taxi_2020.csv')\n",
    "\n",
    "# Dataset the list the community areas by name, number, population and area\n",
    "df_loc = pd.read_csv('chicago_communities.csv')\n",
    "\n",
    "# Dataset that records the median household incomes in the different chicago communities\n",
    "df_income = pd.read_csv('chicago_income.csv')"
   ]
  },
  {
   "cell_type": "code",
   "execution_count": 3,
   "id": "3a7e4b17",
   "metadata": {
    "scrolled": true
   },
   "outputs": [
    {
     "data": {
      "text/html": [
       "<div>\n",
       "<style scoped>\n",
       "    .dataframe tbody tr th:only-of-type {\n",
       "        vertical-align: middle;\n",
       "    }\n",
       "\n",
       "    .dataframe tbody tr th {\n",
       "        vertical-align: top;\n",
       "    }\n",
       "\n",
       "    .dataframe thead th {\n",
       "        text-align: right;\n",
       "    }\n",
       "</style>\n",
       "<table border=\"1\" class=\"dataframe\">\n",
       "  <thead>\n",
       "    <tr style=\"text-align: right;\">\n",
       "      <th></th>\n",
       "      <th>Trip ID</th>\n",
       "      <th>Taxi ID</th>\n",
       "      <th>Trip Start Timestamp</th>\n",
       "      <th>Trip End Timestamp</th>\n",
       "      <th>Trip Seconds</th>\n",
       "      <th>Trip Miles</th>\n",
       "      <th>Pickup Census Tract</th>\n",
       "      <th>Dropoff Census Tract</th>\n",
       "      <th>Pickup Community Area</th>\n",
       "      <th>Dropoff Community Area</th>\n",
       "      <th>...</th>\n",
       "      <th>Extras</th>\n",
       "      <th>Trip Total</th>\n",
       "      <th>Payment Type</th>\n",
       "      <th>Company</th>\n",
       "      <th>Pickup Centroid Latitude</th>\n",
       "      <th>Pickup Centroid Longitude</th>\n",
       "      <th>Pickup Centroid Location</th>\n",
       "      <th>Dropoff Centroid Latitude</th>\n",
       "      <th>Dropoff Centroid Longitude</th>\n",
       "      <th>Dropoff Centroid  Location</th>\n",
       "    </tr>\n",
       "  </thead>\n",
       "  <tbody>\n",
       "    <tr>\n",
       "      <th>0</th>\n",
       "      <td>16c7456d99031528c238bd02f40df5ab9bdf9778</td>\n",
       "      <td>88d3be8c1334607f62a8c058f680dd7fbb57826ec7408d...</td>\n",
       "      <td>01/01/2020 12:00:00 AM</td>\n",
       "      <td>01/01/2020 12:00:00 AM</td>\n",
       "      <td>60</td>\n",
       "      <td>0.00</td>\n",
       "      <td>NaN</td>\n",
       "      <td>NaN</td>\n",
       "      <td>NaN</td>\n",
       "      <td>NaN</td>\n",
       "      <td>...</td>\n",
       "      <td>9.0</td>\n",
       "      <td>12.27</td>\n",
       "      <td>Credit Card</td>\n",
       "      <td>Top Cab Affiliation</td>\n",
       "      <td>NaN</td>\n",
       "      <td>NaN</td>\n",
       "      <td>NaN</td>\n",
       "      <td>NaN</td>\n",
       "      <td>NaN</td>\n",
       "      <td>NaN</td>\n",
       "    </tr>\n",
       "    <tr>\n",
       "      <th>1</th>\n",
       "      <td>472eef1d5c7a5e5ee033f673942f367dc71869f1</td>\n",
       "      <td>199fa05b63204aa1c620c161c5cebe43b0909b1ee99864...</td>\n",
       "      <td>01/01/2020 12:00:00 AM</td>\n",
       "      <td>01/01/2020 12:30:00 AM</td>\n",
       "      <td>1,740</td>\n",
       "      <td>0.00</td>\n",
       "      <td>NaN</td>\n",
       "      <td>NaN</td>\n",
       "      <td>NaN</td>\n",
       "      <td>43.0</td>\n",
       "      <td>...</td>\n",
       "      <td>0.0</td>\n",
       "      <td>13.00</td>\n",
       "      <td>Cash</td>\n",
       "      <td>Blue Ribbon Taxi Association Inc.</td>\n",
       "      <td>NaN</td>\n",
       "      <td>NaN</td>\n",
       "      <td>NaN</td>\n",
       "      <td>41.761578</td>\n",
       "      <td>-87.572782</td>\n",
       "      <td>POINT (-87.5727819867 41.7615779081)</td>\n",
       "    </tr>\n",
       "    <tr>\n",
       "      <th>2</th>\n",
       "      <td>031a4d882fb3315a490d0b5c358c945ad9b9856d</td>\n",
       "      <td>aabecb47e958f99860a3b4d01f14d53644ac26126d9519...</td>\n",
       "      <td>01/01/2020 12:00:00 AM</td>\n",
       "      <td>01/01/2020 12:15:00 AM</td>\n",
       "      <td>720</td>\n",
       "      <td>0.70</td>\n",
       "      <td>NaN</td>\n",
       "      <td>NaN</td>\n",
       "      <td>8.0</td>\n",
       "      <td>8.0</td>\n",
       "      <td>...</td>\n",
       "      <td>5.0</td>\n",
       "      <td>14.80</td>\n",
       "      <td>Credit Card</td>\n",
       "      <td>Taxi Affiliation Services</td>\n",
       "      <td>41.899602</td>\n",
       "      <td>-87.633308</td>\n",
       "      <td>POINT (-87.6333080367 41.899602111)</td>\n",
       "      <td>41.899602</td>\n",
       "      <td>-87.633308</td>\n",
       "      <td>POINT (-87.6333080367 41.899602111)</td>\n",
       "    </tr>\n",
       "    <tr>\n",
       "      <th>3</th>\n",
       "      <td>3c416c246829dfb3f78cc93cbc7dfecdd379be15</td>\n",
       "      <td>ba106251fbb2b52177138ccbb8a1327a83c89470c240b2...</td>\n",
       "      <td>01/01/2020 12:00:00 AM</td>\n",
       "      <td>01/01/2020 12:15:00 AM</td>\n",
       "      <td>720</td>\n",
       "      <td>0.80</td>\n",
       "      <td>NaN</td>\n",
       "      <td>NaN</td>\n",
       "      <td>8.0</td>\n",
       "      <td>8.0</td>\n",
       "      <td>...</td>\n",
       "      <td>2.0</td>\n",
       "      <td>9.75</td>\n",
       "      <td>Cash</td>\n",
       "      <td>Taxi Affiliation Services</td>\n",
       "      <td>41.899602</td>\n",
       "      <td>-87.633308</td>\n",
       "      <td>POINT (-87.6333080367 41.899602111)</td>\n",
       "      <td>41.899602</td>\n",
       "      <td>-87.633308</td>\n",
       "      <td>POINT (-87.6333080367 41.899602111)</td>\n",
       "    </tr>\n",
       "    <tr>\n",
       "      <th>4</th>\n",
       "      <td>3c0a22971ae070ce35e0c03f1b8e92fe7aa840cd</td>\n",
       "      <td>1f1970d8e52c7e2575aeb68eb3b6ab0e21c77b728267df...</td>\n",
       "      <td>01/01/2020 12:00:00 AM</td>\n",
       "      <td>01/01/2020 12:00:00 AM</td>\n",
       "      <td>556</td>\n",
       "      <td>0.77</td>\n",
       "      <td>NaN</td>\n",
       "      <td>NaN</td>\n",
       "      <td>8.0</td>\n",
       "      <td>8.0</td>\n",
       "      <td>...</td>\n",
       "      <td>0.0</td>\n",
       "      <td>6.75</td>\n",
       "      <td>Cash</td>\n",
       "      <td>Sun Taxi</td>\n",
       "      <td>41.899602</td>\n",
       "      <td>-87.633308</td>\n",
       "      <td>POINT (-87.6333080367 41.899602111)</td>\n",
       "      <td>41.899602</td>\n",
       "      <td>-87.633308</td>\n",
       "      <td>POINT (-87.6333080367 41.899602111)</td>\n",
       "    </tr>\n",
       "  </tbody>\n",
       "</table>\n",
       "<p>5 rows × 23 columns</p>\n",
       "</div>"
      ],
      "text/plain": [
       "                                    Trip ID  \\\n",
       "0  16c7456d99031528c238bd02f40df5ab9bdf9778   \n",
       "1  472eef1d5c7a5e5ee033f673942f367dc71869f1   \n",
       "2  031a4d882fb3315a490d0b5c358c945ad9b9856d   \n",
       "3  3c416c246829dfb3f78cc93cbc7dfecdd379be15   \n",
       "4  3c0a22971ae070ce35e0c03f1b8e92fe7aa840cd   \n",
       "\n",
       "                                             Taxi ID    Trip Start Timestamp  \\\n",
       "0  88d3be8c1334607f62a8c058f680dd7fbb57826ec7408d...  01/01/2020 12:00:00 AM   \n",
       "1  199fa05b63204aa1c620c161c5cebe43b0909b1ee99864...  01/01/2020 12:00:00 AM   \n",
       "2  aabecb47e958f99860a3b4d01f14d53644ac26126d9519...  01/01/2020 12:00:00 AM   \n",
       "3  ba106251fbb2b52177138ccbb8a1327a83c89470c240b2...  01/01/2020 12:00:00 AM   \n",
       "4  1f1970d8e52c7e2575aeb68eb3b6ab0e21c77b728267df...  01/01/2020 12:00:00 AM   \n",
       "\n",
       "       Trip End Timestamp Trip Seconds  Trip Miles  Pickup Census Tract  \\\n",
       "0  01/01/2020 12:00:00 AM           60        0.00                  NaN   \n",
       "1  01/01/2020 12:30:00 AM        1,740        0.00                  NaN   \n",
       "2  01/01/2020 12:15:00 AM          720        0.70                  NaN   \n",
       "3  01/01/2020 12:15:00 AM          720        0.80                  NaN   \n",
       "4  01/01/2020 12:00:00 AM          556        0.77                  NaN   \n",
       "\n",
       "   Dropoff Census Tract  Pickup Community Area  Dropoff Community Area  ...  \\\n",
       "0                   NaN                    NaN                     NaN  ...   \n",
       "1                   NaN                    NaN                    43.0  ...   \n",
       "2                   NaN                    8.0                     8.0  ...   \n",
       "3                   NaN                    8.0                     8.0  ...   \n",
       "4                   NaN                    8.0                     8.0  ...   \n",
       "\n",
       "  Extras  Trip Total  Payment Type                            Company  \\\n",
       "0    9.0       12.27   Credit Card                Top Cab Affiliation   \n",
       "1    0.0       13.00          Cash  Blue Ribbon Taxi Association Inc.   \n",
       "2    5.0       14.80   Credit Card          Taxi Affiliation Services   \n",
       "3    2.0        9.75          Cash          Taxi Affiliation Services   \n",
       "4    0.0        6.75          Cash                           Sun Taxi   \n",
       "\n",
       "  Pickup Centroid Latitude Pickup Centroid Longitude  \\\n",
       "0                      NaN                       NaN   \n",
       "1                      NaN                       NaN   \n",
       "2                41.899602                -87.633308   \n",
       "3                41.899602                -87.633308   \n",
       "4                41.899602                -87.633308   \n",
       "\n",
       "              Pickup Centroid Location  Dropoff Centroid Latitude  \\\n",
       "0                                  NaN                        NaN   \n",
       "1                                  NaN                  41.761578   \n",
       "2  POINT (-87.6333080367 41.899602111)                  41.899602   \n",
       "3  POINT (-87.6333080367 41.899602111)                  41.899602   \n",
       "4  POINT (-87.6333080367 41.899602111)                  41.899602   \n",
       "\n",
       "   Dropoff Centroid Longitude            Dropoff Centroid  Location  \n",
       "0                         NaN                                   NaN  \n",
       "1                  -87.572782  POINT (-87.5727819867 41.7615779081)  \n",
       "2                  -87.633308   POINT (-87.6333080367 41.899602111)  \n",
       "3                  -87.633308   POINT (-87.6333080367 41.899602111)  \n",
       "4                  -87.633308   POINT (-87.6333080367 41.899602111)  \n",
       "\n",
       "[5 rows x 23 columns]"
      ]
     },
     "execution_count": 3,
     "metadata": {},
     "output_type": "execute_result"
    }
   ],
   "source": [
    "df_trip.head()"
   ]
  },
  {
   "cell_type": "code",
   "execution_count": 4,
   "id": "2d8aac0b",
   "metadata": {},
   "outputs": [
    {
     "data": {
      "text/html": [
       "<div>\n",
       "<style scoped>\n",
       "    .dataframe tbody tr th:only-of-type {\n",
       "        vertical-align: middle;\n",
       "    }\n",
       "\n",
       "    .dataframe tbody tr th {\n",
       "        vertical-align: top;\n",
       "    }\n",
       "\n",
       "    .dataframe thead th {\n",
       "        text-align: right;\n",
       "    }\n",
       "</style>\n",
       "<table border=\"1\" class=\"dataframe\">\n",
       "  <thead>\n",
       "    <tr style=\"text-align: right;\">\n",
       "      <th></th>\n",
       "      <th>No.</th>\n",
       "      <th>Name</th>\n",
       "      <th>Population (2020)[update][10]</th>\n",
       "      <th>Area[9] (sq mi.)</th>\n",
       "      <th>Area[9] (km2)</th>\n",
       "      <th>Density (/sq mi.)</th>\n",
       "      <th>Density (/km2)</th>\n",
       "    </tr>\n",
       "  </thead>\n",
       "  <tbody>\n",
       "    <tr>\n",
       "      <th>0</th>\n",
       "      <td>1</td>\n",
       "      <td>Rogers Park</td>\n",
       "      <td>55,628</td>\n",
       "      <td>1.84</td>\n",
       "      <td>4.77</td>\n",
       "      <td>30,232.61</td>\n",
       "      <td>11,672.81</td>\n",
       "    </tr>\n",
       "    <tr>\n",
       "      <th>1</th>\n",
       "      <td>2</td>\n",
       "      <td>West Ridge</td>\n",
       "      <td>77,122</td>\n",
       "      <td>3.53</td>\n",
       "      <td>9.14</td>\n",
       "      <td>21,847.59</td>\n",
       "      <td>8,435.36</td>\n",
       "    </tr>\n",
       "    <tr>\n",
       "      <th>2</th>\n",
       "      <td>3</td>\n",
       "      <td>Uptown</td>\n",
       "      <td>57,182</td>\n",
       "      <td>2.32</td>\n",
       "      <td>6.01</td>\n",
       "      <td>24,647.41</td>\n",
       "      <td>9,516.37</td>\n",
       "    </tr>\n",
       "    <tr>\n",
       "      <th>3</th>\n",
       "      <td>4</td>\n",
       "      <td>Lincoln Square</td>\n",
       "      <td>40,494</td>\n",
       "      <td>2.56</td>\n",
       "      <td>6.63</td>\n",
       "      <td>15,817.97</td>\n",
       "      <td>6,107.32</td>\n",
       "    </tr>\n",
       "    <tr>\n",
       "      <th>4</th>\n",
       "      <td>5</td>\n",
       "      <td>North Center</td>\n",
       "      <td>35,114</td>\n",
       "      <td>2.05</td>\n",
       "      <td>5.31</td>\n",
       "      <td>17,128.78</td>\n",
       "      <td>6,613.42</td>\n",
       "    </tr>\n",
       "  </tbody>\n",
       "</table>\n",
       "</div>"
      ],
      "text/plain": [
       "   No.            Name Population (2020)[update][10]  Area[9] (sq mi.)  \\\n",
       "0    1     Rogers Park                        55,628              1.84   \n",
       "1    2      West Ridge                        77,122              3.53   \n",
       "2    3          Uptown                        57,182              2.32   \n",
       "3    4  Lincoln Square                        40,494              2.56   \n",
       "4    5    North Center                        35,114              2.05   \n",
       "\n",
       "   Area[9] (km2) Density (/sq mi.) Density (/km2)  \n",
       "0           4.77         30,232.61      11,672.81  \n",
       "1           9.14         21,847.59       8,435.36  \n",
       "2           6.01         24,647.41       9,516.37  \n",
       "3           6.63         15,817.97       6,107.32  \n",
       "4           5.31         17,128.78       6,613.42  "
      ]
     },
     "execution_count": 4,
     "metadata": {},
     "output_type": "execute_result"
    }
   ],
   "source": [
    "df_loc.head()"
   ]
  },
  {
   "cell_type": "code",
   "execution_count": 5,
   "id": "515c59ef",
   "metadata": {},
   "outputs": [
    {
     "data": {
      "text/html": [
       "<div>\n",
       "<style scoped>\n",
       "    .dataframe tbody tr th:only-of-type {\n",
       "        vertical-align: middle;\n",
       "    }\n",
       "\n",
       "    .dataframe tbody tr th {\n",
       "        vertical-align: top;\n",
       "    }\n",
       "\n",
       "    .dataframe thead th {\n",
       "        text-align: right;\n",
       "    }\n",
       "</style>\n",
       "<table border=\"1\" class=\"dataframe\">\n",
       "  <thead>\n",
       "    <tr style=\"text-align: right;\">\n",
       "      <th></th>\n",
       "      <th>Neighborhood</th>\n",
       "      <th>Median household Income</th>\n",
       "    </tr>\n",
       "  </thead>\n",
       "  <tbody>\n",
       "    <tr>\n",
       "      <th>0</th>\n",
       "      <td>City of Chicago</td>\n",
       "      <td>$38,625.00</td>\n",
       "    </tr>\n",
       "    <tr>\n",
       "      <th>1</th>\n",
       "      <td>Albany Park</td>\n",
       "      <td>$40,711.00</td>\n",
       "    </tr>\n",
       "    <tr>\n",
       "      <th>2</th>\n",
       "      <td>Archer Heights</td>\n",
       "      <td>$39,431.00</td>\n",
       "    </tr>\n",
       "    <tr>\n",
       "      <th>3</th>\n",
       "      <td>Armour Square</td>\n",
       "      <td>$22,756.00</td>\n",
       "    </tr>\n",
       "    <tr>\n",
       "      <th>4</th>\n",
       "      <td>Ashburn</td>\n",
       "      <td>$53,633.00</td>\n",
       "    </tr>\n",
       "  </tbody>\n",
       "</table>\n",
       "</div>"
      ],
      "text/plain": [
       "      Neighborhood Median household Income\n",
       "0  City of Chicago              $38,625.00\n",
       "1      Albany Park              $40,711.00\n",
       "2   Archer Heights              $39,431.00\n",
       "3    Armour Square              $22,756.00\n",
       "4          Ashburn              $53,633.00"
      ]
     },
     "execution_count": 5,
     "metadata": {},
     "output_type": "execute_result"
    }
   ],
   "source": [
    "df_income.head()"
   ]
  },
  {
   "cell_type": "markdown",
   "id": "9cd0adfa",
   "metadata": {},
   "source": [
    "# QUESTION 1 - TRENDS DURING THE YEAR"
   ]
  },
  {
   "cell_type": "code",
   "execution_count": 6,
   "id": "bafd339b",
   "metadata": {},
   "outputs": [
    {
     "data": {
      "text/plain": [
       "(3889032, 23)"
      ]
     },
     "execution_count": 6,
     "metadata": {},
     "output_type": "execute_result"
    }
   ],
   "source": [
    "df_trip.shape"
   ]
  },
  {
   "cell_type": "code",
   "execution_count": 7,
   "id": "94e1aecf",
   "metadata": {},
   "outputs": [
    {
     "data": {
      "text/plain": [
       "Trip ID                             0\n",
       "Taxi ID                           201\n",
       "Trip Start Timestamp                0\n",
       "Trip End Timestamp                574\n",
       "Trip Seconds                     1549\n",
       "Trip Miles                         30\n",
       "Pickup Census Tract           2106125\n",
       "Dropoff Census Tract          2118598\n",
       "Pickup Community Area          278916\n",
       "Dropoff Community Area         368829\n",
       "Fare                              332\n",
       "Tips                              332\n",
       "Tolls                             332\n",
       "Extras                            332\n",
       "Trip Total                        332\n",
       "Payment Type                        0\n",
       "Company                             0\n",
       "Pickup Centroid Latitude       278214\n",
       "Pickup Centroid Longitude      278214\n",
       "Pickup Centroid Location       278214\n",
       "Dropoff Centroid Latitude      362119\n",
       "Dropoff Centroid Longitude     362119\n",
       "Dropoff Centroid  Location     362119\n",
       "dtype: int64"
      ]
     },
     "execution_count": 7,
     "metadata": {},
     "output_type": "execute_result"
    }
   ],
   "source": [
    "df_trip.isnull().sum()"
   ]
  },
  {
   "cell_type": "code",
   "execution_count": 8,
   "id": "02ca7f31",
   "metadata": {},
   "outputs": [
    {
     "data": {
      "text/plain": [
       "Trip ID                        object\n",
       "Taxi ID                        object\n",
       "Trip Start Timestamp           object\n",
       "Trip End Timestamp             object\n",
       "Trip Seconds                   object\n",
       "Trip Miles                    float64\n",
       "Pickup Census Tract           float64\n",
       "Dropoff Census Tract          float64\n",
       "Pickup Community Area         float64\n",
       "Dropoff Community Area        float64\n",
       "Fare                           object\n",
       "Tips                          float64\n",
       "Tolls                         float64\n",
       "Extras                         object\n",
       "Trip Total                     object\n",
       "Payment Type                   object\n",
       "Company                        object\n",
       "Pickup Centroid Latitude      float64\n",
       "Pickup Centroid Longitude     float64\n",
       "Pickup Centroid Location       object\n",
       "Dropoff Centroid Latitude     float64\n",
       "Dropoff Centroid Longitude    float64\n",
       "Dropoff Centroid  Location     object\n",
       "dtype: object"
      ]
     },
     "execution_count": 8,
     "metadata": {},
     "output_type": "execute_result"
    }
   ],
   "source": [
    "df_trip.dtypes"
   ]
  },
  {
   "cell_type": "code",
   "execution_count": 9,
   "id": "1c8f0369",
   "metadata": {},
   "outputs": [],
   "source": [
    "# The trip start date needs to be converted into a pandas datetime type\n",
    "\n",
    "df_trip['trip_date'] = pd.to_datetime(df_trip['Trip Start Timestamp']).dt.date\n"
   ]
  },
  {
   "cell_type": "code",
   "execution_count": 10,
   "id": "19a2771d",
   "metadata": {},
   "outputs": [],
   "source": [
    "# The fare needs to be numeric. The comma in the values needs to first be removed \n",
    "\n",
    "df_trip['Fare'] = df_trip['Fare'].apply(lambda x: float(str(x).replace(',','')))"
   ]
  },
  {
   "cell_type": "code",
   "execution_count": 11,
   "id": "0d93a4a1",
   "metadata": {},
   "outputs": [
    {
     "ename": "NameError",
     "evalue": "name 'np' is not defined",
     "output_type": "error",
     "traceback": [
      "\u001b[1;31m---------------------------------------------------------------------------\u001b[0m",
      "\u001b[1;31mNameError\u001b[0m                                 Traceback (most recent call last)",
      "\u001b[1;32m~\\AppData\\Local\\Temp/ipykernel_9656/858116909.py\u001b[0m in \u001b[0;36m<module>\u001b[1;34m\u001b[0m\n\u001b[0;32m      2\u001b[0m   For very short trips I assume the miles were 0 for rounding, convert the fare rate to Null as unknown rather than infinity \"\"\"\n\u001b[0;32m      3\u001b[0m \u001b[1;33m\u001b[0m\u001b[0m\n\u001b[1;32m----> 4\u001b[1;33m \u001b[0mdf_trip\u001b[0m\u001b[1;33m[\u001b[0m\u001b[1;34m'Fare_per_mile'\u001b[0m\u001b[1;33m]\u001b[0m \u001b[1;33m=\u001b[0m \u001b[1;33m(\u001b[0m\u001b[0mdf_trip\u001b[0m\u001b[1;33m[\u001b[0m\u001b[1;34m'Fare'\u001b[0m\u001b[1;33m]\u001b[0m\u001b[1;33m/\u001b[0m\u001b[0mdf_trip\u001b[0m\u001b[1;33m[\u001b[0m\u001b[1;34m'Trip Miles'\u001b[0m\u001b[1;33m]\u001b[0m\u001b[1;33m)\u001b[0m\u001b[1;33m.\u001b[0m\u001b[0mreplace\u001b[0m\u001b[1;33m(\u001b[0m\u001b[1;33m[\u001b[0m\u001b[0mnp\u001b[0m\u001b[1;33m.\u001b[0m\u001b[0minf\u001b[0m\u001b[1;33m,\u001b[0m \u001b[1;33m-\u001b[0m\u001b[0mnp\u001b[0m\u001b[1;33m.\u001b[0m\u001b[0minf\u001b[0m\u001b[1;33m]\u001b[0m\u001b[1;33m,\u001b[0m \u001b[0mnp\u001b[0m\u001b[1;33m.\u001b[0m\u001b[0mnan\u001b[0m\u001b[1;33m)\u001b[0m\u001b[1;33m\u001b[0m\u001b[1;33m\u001b[0m\u001b[0m\n\u001b[0m",
      "\u001b[1;31mNameError\u001b[0m: name 'np' is not defined"
     ]
    }
   ],
   "source": [
    "\"\"\" Longer trips should have higher fares so unitize the fare per mile to get a representation of taxi expensiveness \n",
    "  For very short trips I assume the miles were 0 for rounding, convert the fare rate to Null as unknown rather than infinity \"\"\"\n",
    "\n",
    "df_trip['Fare_per_mile'] = (df_trip['Fare']/df_trip['Trip Miles']).replace([np.inf, -np.inf], np.nan)"
   ]
  },
  {
   "cell_type": "code",
   "execution_count": null,
   "id": "a5b39ef7",
   "metadata": {},
   "outputs": [],
   "source": [
    "df_trip['Fare_per_mile'].describe()"
   ]
  },
  {
   "cell_type": "code",
   "execution_count": null,
   "id": "3186e44a",
   "metadata": {},
   "outputs": [],
   "source": [
    "# Have a binary indicator of whether a tip was paid. For cases where Tips is missing, set tip paid as missing\n",
    "\n",
    "df_trip['tip_paid'] = (df_trip['Tips'] > 0 ).astype('int')\n",
    "df_trip.loc[df_trip['Tips'].isnull(), 'tip_paid'] = None"
   ]
  },
  {
   "cell_type": "code",
   "execution_count": null,
   "id": "2bccbbdf",
   "metadata": {},
   "outputs": [],
   "source": [
    "df_trip.columns"
   ]
  },
  {
   "cell_type": "code",
   "execution_count": null,
   "id": "acaf6f66",
   "metadata": {},
   "outputs": [],
   "source": [
    "# I will aggregate the variables on daily basis to explore trends over the year\n",
    "\n",
    "aggs = {'Trip Miles': 'mean', 'Fare_per_mile': 'mean', 'tip_paid': 'mean', 'Trip ID': lambda x: x.nunique()}\n",
    "# Aggregation functions to use for the columns\n",
    "# These aggregation functions used ignore missing values which is desirable as no need to treat them\n",
    "\n",
    "daily_agg = df_trip.groupby('trip_date').aggregate(aggs)\n",
    "daily_agg.columns = ['Average_trip_distance', 'Average_fare_per_mile', 'Tip_rate', 'Number_of_trips']\n",
    "daily_agg.head()"
   ]
  },
  {
   "cell_type": "code",
   "execution_count": null,
   "id": "5327a820",
   "metadata": {},
   "outputs": [],
   "source": [
    "\n",
    "def plotline(var, xlabel, ylabel, title):\n",
    "    \n",
    "    \"\"\" \n",
    "    Function to plot a line chart that will be replotted a few times for different variables.\n",
    "    Takes the variable to plot, x-label, y-label and plot title as inputs. \n",
    "    The function then plots a line chart of the variable across the year\n",
    "    \"\"\"\n",
    "    \n",
    "    startmonths = list(map(lambda x: x + timedelta(days = 1), pd.date_range('2019-12-31', periods = 12, freq = 'M')))\n",
    "    fig, ax = plt.subplots(figsize=(20,10))\n",
    "    ax.grid(axis='both')\n",
    "    plt.xticks(startmonths, list(map(lambda x:x.strftime('%B-%d'), startmonths)))\n",
    "    ax.plot(daily_agg[xvar])\n",
    "    ax.set_xlabel(xlabel)\n",
    "    ax.set_ylabel(ylabel)\n",
    "    ax.set_title(title)\n"
   ]
  },
  {
   "cell_type": "code",
   "execution_count": null,
   "id": "0ab6db32",
   "metadata": {},
   "outputs": [],
   "source": [
    "plotline('Number_of_trips', 'Date', 'Number of trips', 'Trip frequency through the year')\n",
    "\n"
   ]
  },
  {
   "cell_type": "code",
   "execution_count": null,
   "id": "468927be",
   "metadata": {},
   "outputs": [],
   "source": [
    "plotline('Tip_rate', 'Date', 'Tip rate', 'Tip rate through the year')\n",
    "\n"
   ]
  },
  {
   "cell_type": "code",
   "execution_count": null,
   "id": "3c47610a",
   "metadata": {},
   "outputs": [],
   "source": [
    "fig, ax = plt.subplots(figsize=(20,10))\n",
    "ax.grid(axis='both')\n",
    "startmonths = list(map(lambda x: x + timedelta(days = 1), pd.date_range('2019-12-31', periods = 12, freq = 'M')))\n",
    "plt.xticks(startmonths, list(map(lambda x:x.strftime('%B-%d'), startmonths)))\n",
    "ax.plot(df_trip[df_trip['Tips'] > 0].groupby('trip_date')['Tips'].mean())  # daily average tip given tip has been paid\n",
    "ax.set_xlabel('Date')\n",
    "ax.set_ylabel('Tip amount')\n",
    "ax.set_title('Average tip amount through the year')\n"
   ]
  },
  {
   "cell_type": "code",
   "execution_count": null,
   "id": "11076710",
   "metadata": {},
   "outputs": [],
   "source": [
    "plotline('Average_fare_per_mile', 'Date', 'Fare per mile', 'Average fare per mile through the year')"
   ]
  },
  {
   "cell_type": "code",
   "execution_count": null,
   "id": "d037b577",
   "metadata": {
    "scrolled": true
   },
   "outputs": [],
   "source": [
    "plotline('Average_trip_distance', 'Date', 'Average trip distance', 'Trip distance through the year')"
   ]
  },
  {
   "cell_type": "markdown",
   "id": "c73ef84a",
   "metadata": {},
   "source": [
    "# QUESTION 2 - FACTORS THAT DETERMINE TIP RATE"
   ]
  },
  {
   "cell_type": "code",
   "execution_count": null,
   "id": "f04fc14f",
   "metadata": {},
   "outputs": [],
   "source": [
    "df_trip['tip_paid'].mean()"
   ]
  },
  {
   "cell_type": "code",
   "execution_count": null,
   "id": "f3e85906",
   "metadata": {},
   "outputs": [],
   "source": [
    "\"\"\" Would like to explore tip rate relation with the time of day and week\n",
    ", and interaction with the period in relation to covid lockdowns \"\"\"\n",
    "\n",
    "\n",
    "df_trip['Trip_start_hour'] = pd.to_datetime(df_trip['Trip Start Timestamp']).apply(lambda x: x.strftime('%H'))\n",
    "df_trip['Trip_day_of_week'] = df_trip['trip_date'].apply(lambda x: x.strftime('%A'))\n",
    "df_trip['Pre-lockdown'] = df_trip['trip_date'].apply(lambda x: int(x.strftime('%m'))) < 3\n",
    "\n"
   ]
  },
  {
   "cell_type": "code",
   "execution_count": null,
   "id": "767838b5",
   "metadata": {},
   "outputs": [],
   "source": [
    "# Plot to see how hour of day affects the chances of a tip being paid\n",
    "\n",
    "hour_tip_rate = df_trip.groupby(['Trip_start_hour', 'Pre-lockdown'])['tip_paid'].mean().reset_index()\n",
    "\n",
    "fig, ax = plt.subplots(figsize=(20,10))\n",
    "ax.grid(axis='both')\n",
    "ax.plot(hour_tip_rate[hour_tip_rate['Pre-lockdown']]['Trip_start_hour'], hour_tip_rate[hour_tip_rate['Pre-lockdown']]['tip_paid'])\n",
    "ax.plot(hour_tip_rate[~hour_tip_rate['Pre-lockdown']]['Trip_start_hour'], hour_tip_rate[~hour_tip_rate['Pre-lockdown']]['tip_paid'])\n",
    "ax.set_xlabel('Trip start hour of day')\n",
    "ax.set_ylabel('Tip rate')\n",
    "fig.legend(labels = ('Pre-loac','Covid'), fontsize=10)\n",
    "ax.set_title('Tip rate based on hour of day')\n"
   ]
  },
  {
   "cell_type": "code",
   "execution_count": null,
   "id": "d7180452",
   "metadata": {},
   "outputs": [],
   "source": [
    "# Plot to see how day of the week affects the chances of a tip being paid\n",
    "\n",
    "daysofweek = {'Monday': 1, 'Tuesday': 2, 'Wednesday': 3, 'Thursday': 4, 'Friday': 5, 'Saturday': 6, 'Sunday': 7}\n",
    "weekday_tip_rate = df_trip.groupby(['Trip_day_of_week', 'Pre-lockdown'])['tip_paid'].mean().reset_index()\n",
    "weekday_tip_rate.sort_values(by = 'Trip_day_of_week', key = lambda x: x.apply(lambda y: daysofweek[y]), inplace = True)\n",
    "\n",
    "fig, ax = plt.subplots(figsize=(20,10))\n",
    "ax.grid(axis='both')\n",
    "ax.bar(weekday_tip_rate[weekday_tip_rate['Pre-lockdown']]['Trip_day_of_week'], weekday_tip_rate[weekday_tip_rate['Pre-lockdown']]['tip_paid'])\n",
    "ax.bar(weekday_tip_rate[~weekday_tip_rate['Pre-lockdown']]['Trip_day_of_week'], weekday_tip_rate[~weekday_tip_rate['Pre-lockdown']]['tip_paid'])\n",
    "ax.set_xlabel('Trip day of week')\n",
    "ax.set_ylabel('Tip rate')\n",
    "ax.set_title('Tip rate based on day of week')\n",
    "fig.legend(labels = ('Pre-covid','Covid'), fontsize=10)"
   ]
  },
  {
   "cell_type": "code",
   "execution_count": null,
   "id": "9799622b",
   "metadata": {},
   "outputs": [],
   "source": [
    "\"\"\" Would also like to see how the fare per mile affects tip rate.\n",
    "Will visualize by binning fare per mile on observing tip rate across the bins\"\"\"\n",
    "\n",
    "# 5 bins seems appropriate. First get the 20% quantile cutoffs to get idea of distribution before manually setting cuts\n",
    "\n",
    "pd.qcut(df_trip['Fare_per_mile'], q = 5).value_counts()"
   ]
  },
  {
   "cell_type": "code",
   "execution_count": null,
   "id": "4af96c38",
   "metadata": {},
   "outputs": [],
   "source": [
    "# Create plot with manually set bins for easier intepretation\n",
    "\n",
    "lbls = ['[0 - 3)','[3 - 5)','[5 - 7.5)','[7.5 - 10)', '>= 10' ]\n",
    "cuts = [-np.inf] + [3, 5, 7.5, 10] + [np.inf]\n",
    "\n",
    "bins = pd.cut(df_trip['Fare_per_mile'], bins = cuts)\n",
    "\n",
    "d = pd.DataFrame(df_trip.groupby(bins).tip_paid.agg(['mean', 'count', 'sum']))\n",
    "d.columns = ['rate', 'freq', 'bads']\n",
    "d['freq'] = d['freq']/d['freq'].sum()\n",
    "\n",
    "\n",
    "\n",
    "fig, ax = plt.subplots(figsize=(10,10))\n",
    "ax = d['freq'].plot(kind = 'bar', width = 0.95)\n",
    "ax.set_ylabel('Relative frequency', fontsize=10)\n",
    "\n",
    "ax2 = ax.twinx()\n",
    "ax2 = d['rate'].plot(color = 'r', marker='*', markersize=10)\n",
    "ax2.set_ylabel('Tip rate', fontsize=10)\n",
    "\n",
    "ax.grid(axis='both')\n",
    "ax.tick_params(axis='y', labelsize=10)\n",
    "ax2.tick_params(axis='y', labelsize=10)\n",
    "ax.set_ylim(0,0.4)\n",
    "ax2.set_ylim(0.3,0.5)\n",
    "\n",
    "ax.set_xlabel('Fare per mile ($)', fontsize=10)\n",
    "ax.set_xticklabels(labels = lbls , rotation = 0, fontsize = 8)\n",
    "ax.set_title('Tip rate based on fare')\n",
    "fig.legend(labels = ('Relative frequency','Tip rate'), fontsize=10)\n",
    "plt.show()"
   ]
  },
  {
   "cell_type": "code",
   "execution_count": null,
   "id": "f69ac637",
   "metadata": {
    "scrolled": true
   },
   "outputs": [],
   "source": [
    "# Check the relation between the payment type and the tip rate. Simple table seems fine for this\n",
    "\n",
    "paymenttype = df_trip.groupby('Payment Type').tip_paid.agg(['count', 'sum', 'mean'])\n",
    "paymenttype.columns = ['Frequency used', 'Tips paid', 'Tip rate']\n",
    "paymenttype"
   ]
  },
  {
   "cell_type": "code",
   "execution_count": null,
   "id": "74bd8aaf",
   "metadata": {},
   "outputs": [],
   "source": [
    "# Check the tips rates in the different community areas\n",
    "\n",
    "ca = pd.merge(left = df_trip, right = df_loc, left_on = 'Pickup Community Area', right_on = 'No.').groupby('Name').tip_paid.agg(['count', 'sum', 'mean'])\n",
    "ca.columns = ['Trip frequency', 'Tips paid', 'Tip rate']\n",
    "ca.sort_values(by = 'Tip rate', ascending = False)"
   ]
  },
  {
   "cell_type": "markdown",
   "id": "4eedd464",
   "metadata": {},
   "source": [
    "# QUESTION 3 -  Population, median household income, and city size explain the frequency of use of taxi's within the cities"
   ]
  },
  {
   "cell_type": "code",
   "execution_count": null,
   "id": "809c60ae",
   "metadata": {},
   "outputs": [],
   "source": [
    "# First filter for where the pickup of droppoff community is same since looking at trips within then count trips\n",
    "\n",
    "within_trips = df_trip[df_trip['Pickup Community Area'] == df_trip['Dropoff Community Area']].groupby('Pickup Community Area')['Trip ID'].nunique().reset_index()\n",
    "within_trips.columns = ['Community area', 'Trip_count']\n",
    "within_trips.head()"
   ]
  },
  {
   "cell_type": "code",
   "execution_count": null,
   "id": "5cc63c90",
   "metadata": {},
   "outputs": [],
   "source": [
    "# Merge with the community information to get the name, poplulations and areas of the communities\n",
    "\n",
    "within_trips = pd.merge(left = within_trips, right = df_loc, left_on = 'Community area', right_on = 'No.', how = 'left')\n",
    "within_trips.columns"
   ]
  },
  {
   "cell_type": "code",
   "execution_count": null,
   "id": "abb57677",
   "metadata": {},
   "outputs": [],
   "source": [
    "within_trips.head()"
   ]
  },
  {
   "cell_type": "code",
   "execution_count": null,
   "id": "453453ae",
   "metadata": {},
   "outputs": [],
   "source": [
    "# Select the columns I will keep\n",
    "\n",
    "within_trips = within_trips[within_trips.columns[[3, 4, 6, 1]]]\n",
    "within_trips.columns = ['Name', 'Population', 'Area', 'Trip_count']\n",
    "within_trips.head()"
   ]
  },
  {
   "cell_type": "code",
   "execution_count": null,
   "id": "2a524968",
   "metadata": {},
   "outputs": [],
   "source": [
    "# Merge with the neighborhood data to get the median incomes. Use left join as all trip data should be maintained\n",
    "\n",
    "within_trips = within_trips.merge(df_income, left_on = 'Name', right_on = 'Neighborhood', how = 'left')\n",
    "within_trips.head()"
   ]
  },
  {
   "cell_type": "code",
   "execution_count": null,
   "id": "1835f41f",
   "metadata": {},
   "outputs": [],
   "source": [
    "# Check if any name did not find a match in neighborhood dataset\n",
    "\n",
    "within_trips[within_trips['Median household Income'].isnull()]"
   ]
  },
  {
   "cell_type": "code",
   "execution_count": null,
   "id": "826b7077",
   "metadata": {},
   "outputs": [],
   "source": [
    "# The \"(The)\" is likely to be the issue. Check if any neighborhood name contains the \"Loop\" name\n",
    "df_income[df_income['Neighborhood'].str.contains('Loop')]"
   ]
  },
  {
   "cell_type": "code",
   "execution_count": null,
   "id": "ae479184",
   "metadata": {},
   "outputs": [],
   "source": [
    "# From above, match can be made by removing the \"(The)\" but since just one, it is simpler to just fillna with the income value\n",
    "\n",
    "within_trips['Median household Income'].fillna(df_income[df_income['Neighborhood'].str.contains('Loop')].iloc[0, 1], inplace = True)\n",
    "within_trips[within_trips['Name'].str.contains('Loop')]"
   ]
  },
  {
   "cell_type": "code",
   "execution_count": null,
   "id": "09f64359",
   "metadata": {},
   "outputs": [],
   "source": [
    "within_trips.columns"
   ]
  },
  {
   "cell_type": "code",
   "execution_count": null,
   "id": "c09b3d10",
   "metadata": {},
   "outputs": [],
   "source": [
    "# Select and name final columns\n",
    "\n",
    "within_trips = within_trips[within_trips.columns[[0,1,2,5,3]]]\n",
    "within_trips.columns = ['Name','Population', 'Area', 'Income', 'Trip_count']\n",
    "within_trips.head()"
   ]
  },
  {
   "cell_type": "code",
   "execution_count": null,
   "id": "574b3971",
   "metadata": {},
   "outputs": [],
   "source": [
    "# Check for any missing values\n",
    "\n",
    "within_trips.isnull().sum()"
   ]
  },
  {
   "cell_type": "code",
   "execution_count": null,
   "id": "82354607",
   "metadata": {},
   "outputs": [],
   "source": [
    "# Income needs to be numeric, need to clean by removing comma and dollar sign and convert to numeric\n",
    "\n",
    "within_trips['Income'] = within_trips['Income'].apply(lambda x: float(str(x).replace(',','').replace('$','')))\n",
    "within_trips.head()"
   ]
  },
  {
   "cell_type": "code",
   "execution_count": null,
   "id": "d02e791c",
   "metadata": {},
   "outputs": [],
   "source": [
    "# Similarly clean population\n",
    "\n",
    "within_trips['Population'] = within_trips['Population'].apply(lambda x: float(str(x).replace(',',''))).astype('float')\n",
    "within_trips.head()                 "
   ]
  },
  {
   "cell_type": "code",
   "execution_count": null,
   "id": "27ee87b3",
   "metadata": {},
   "outputs": [],
   "source": [
    "# Observe correlations. Since few variables, table is enough for quick understanding without heatmap\n",
    "\n",
    "within_trips.corr()"
   ]
  },
  {
   "cell_type": "code",
   "execution_count": null,
   "id": "bfe95155",
   "metadata": {},
   "outputs": [],
   "source": [
    "def plotscatter(xvar, yvar, xlabel, ylabel, title):\n",
    "    fig, ax = plt.subplots(figsize=(20,10))\n",
    "    ax.grid(axis='both')\n",
    "    \n",
    "    global within_trips\n",
    "    \n",
    "    x = within_trips[xvar]\n",
    "    y = within_trips[yvar]\n",
    "\n",
    "    a, b = np.polyfit(x, y, 1)\n",
    "    ax.scatter(x, y)\n",
    "    ax.plot(x, a*x+b)\n",
    "    ax.set_xlabel(xlabel)\n",
    "    ax.set_ylabel(ylabel)\n",
    "    ax.set_title(title)\n",
    "    "
   ]
  },
  {
   "cell_type": "code",
   "execution_count": null,
   "id": "b215f156",
   "metadata": {},
   "outputs": [],
   "source": [
    "# Plot scatter plot to see one-to-one relation between trip frequency and income \n",
    "\n",
    "plotscatter('Income', 'Trip_count', 'Median household income', 'Number of trips', 'Trip frequency versus income')\n"
   ]
  },
  {
   "cell_type": "code",
   "execution_count": null,
   "id": "08c682fd",
   "metadata": {},
   "outputs": [],
   "source": [
    "# Plot scatter plot to see one-to-one relation between trip frequency and population\n",
    "\n",
    "plotscatter('Population', 'Trip_count', 'Population', 'Number of trips', 'Trip frequency versus population')\n"
   ]
  },
  {
   "cell_type": "code",
   "execution_count": null,
   "id": "ded2ba7e",
   "metadata": {},
   "outputs": [],
   "source": [
    "# Plot to see one-to-one relation between trip frequency and are\n",
    "plotscatter('Area', 'Trip_count', 'Area', 'Number of trips', 'Trip frequency versus Area')\n",
    "\n",
    "\n"
   ]
  },
  {
   "cell_type": "code",
   "execution_count": null,
   "id": "010d790e",
   "metadata": {},
   "outputs": [],
   "source": [
    "within_trips.head()"
   ]
  },
  {
   "cell_type": "code",
   "execution_count": null,
   "id": "20f53d5e",
   "metadata": {},
   "outputs": [],
   "source": [
    "# Fit regression to see the explainabilty of the variables and also the relationships when holding others constant (coefficients)\n",
    "x = within_trips[['Population', 'Area', 'Income']]\n",
    "y = within_trips['Trip_count']\n",
    "\n",
    "model = LinearRegression(fit_intercept=False)\n",
    "model.fit(x, y)\n"
   ]
  },
  {
   "cell_type": "code",
   "execution_count": null,
   "id": "3b1c29ff",
   "metadata": {},
   "outputs": [],
   "source": [
    "# Get the R^2 on train data. Test not used as this is to see the linear relationships on the given data only\n",
    "\n",
    "model.score(x, y)"
   ]
  },
  {
   "cell_type": "code",
   "execution_count": null,
   "id": "36b5098d",
   "metadata": {},
   "outputs": [],
   "source": [
    "# Get the coefficients\n",
    "\n",
    "list(map(lambda x: float(x), model.coef_))"
   ]
  }
 ],
 "metadata": {
  "kernelspec": {
   "display_name": "Python 3 (ipykernel)",
   "language": "python",
   "name": "python3"
  },
  "language_info": {
   "codemirror_mode": {
    "name": "ipython",
    "version": 3
   },
   "file_extension": ".py",
   "mimetype": "text/x-python",
   "name": "python",
   "nbconvert_exporter": "python",
   "pygments_lexer": "ipython3",
   "version": "3.9.7"
  }
 },
 "nbformat": 4,
 "nbformat_minor": 5
}
